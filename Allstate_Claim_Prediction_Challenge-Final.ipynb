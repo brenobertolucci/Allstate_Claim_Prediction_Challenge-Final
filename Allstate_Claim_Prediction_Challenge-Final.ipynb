{
 "cells": [
  {
   "cell_type": "code",
   "execution_count": null,
   "id": "57c8977c",
   "metadata": {},
   "outputs": [],
   "source": [
    "'''\n",
    "\n",
    "# Carregando dados\n",
    "# Modelo de Probabilidade de Sinistro\n",
    "X_train, X_test, y_train, y_test (y = categoria)\n",
    "## Linear Pipeline\n",
    "cat_pipeline\n",
    "    - OHE\n",
    "    - UMAP\n",
    "num_pipeline\n",
    "    - SCA\n",
    "full_pipeline\n",
    "    - cat_pipeline\n",
    "    - num_pipeline\n",
    "    - LinearModel\n",
    "# Modelo de Valor do Sinistro\n",
    "\n",
    "\n",
    "## FILTRAR APENAS SINISTROS\n",
    "X_train_sin, X_test_sin, y_train_sin, y_test_sin (y = valor)\n",
    "## Dataprep Pipeline\n",
    "cat_pipeline_nn\n",
    "    - OHE\n",
    "num_pipeline_nn\n",
    "    - SCA\n",
    "X_train_trans_num\n",
    "X_train_trans_cat\n",
    "X_test_trans_num\n",
    "X_test_trans_cat\n",
    "## Rede Neural\n",
    "\n",
    "# Avaliando Modelo\n",
    "pred_prob = lm.predict_proba(X_test)\n",
    "pred_valor = nn.predict([cat_pipeline.transform(X_test[cat_vars])])\n",
    "valor_proj = pred_prob * pred_valor\n",
    "'''"
   ]
  },
  {
   "cell_type": "code",
   "execution_count": 95,
   "id": "e3e753f0",
   "metadata": {},
   "outputs": [],
   "source": [
    "import numpy as np\n",
    "import pandas as pd\n",
    "import matplotlib.pyplot as plt\n",
    "import seaborn as sns\n",
    "\n",
    "from sklearn.model_selection import train_test_split\n",
    "from sklearn.linear_model import LogisticRegression\n",
    "from sklearn.tree import DecisionTreeClassifier\n",
    "from sklearn.neural_network import MLPClassifier\n",
    "from sklearn.metrics import f1_score\n",
    "import warnings\n",
    "warnings.filterwarnings(\"ignore\")\n",
    "from sklearn.pipeline import Pipeline\n",
    "from sklearn.decomposition import PCA\n",
    "from sklearn.preprocessing import StandardScaler, PowerTransformer\n",
    "from sklearn.preprocessing import OneHotEncoder\n",
    "from sklearn.compose import ColumnTransformer\n",
    "from sklearn.metrics import accuracy_score\n",
    "from sklearn.metrics import f1_score\n",
    "from sklearn.neural_network import MLPClassifier\n",
    "import tensorflow as tf\n",
    "import umap\n",
    "from tensorflow import keras\n",
    "from keras.models import Sequential\n",
    "from keras.layers import Dense, Dropout\n",
    "from sklearn.metrics import precision_score\n",
    "from sklearn.metrics import recall_score\n",
    "from sklearn.linear_model import LinearRegression\n",
    "from sklearn.linear_model import RidgeCV\n",
    "from sklearn.metrics import mean_squared_error\n"
   ]
  },
  {
   "cell_type": "code",
   "execution_count": 2,
   "id": "c8369221",
   "metadata": {},
   "outputs": [],
   "source": [
    "#reading the info\n",
    "\n",
    "insurance = pd.read_csv(\"data\\\\insurance_train_set.csv\")"
   ]
  },
  {
   "cell_type": "markdown",
   "id": "4da33992",
   "metadata": {},
   "source": [
    "# Understanding the data"
   ]
  },
  {
   "cell_type": "code",
   "execution_count": 3,
   "id": "64d2b200",
   "metadata": {},
   "outputs": [],
   "source": [
    "import sklearn"
   ]
  },
  {
   "cell_type": "code",
   "execution_count": 4,
   "id": "c98c36a0",
   "metadata": {},
   "outputs": [
    {
     "data": {
      "text/html": [
       "<div>\n",
       "<style scoped>\n",
       "    .dataframe tbody tr th:only-of-type {\n",
       "        vertical-align: middle;\n",
       "    }\n",
       "\n",
       "    .dataframe tbody tr th {\n",
       "        vertical-align: top;\n",
       "    }\n",
       "\n",
       "    .dataframe thead th {\n",
       "        text-align: right;\n",
       "    }\n",
       "</style>\n",
       "<table border=\"1\" class=\"dataframe\">\n",
       "  <thead>\n",
       "    <tr style=\"text-align: right;\">\n",
       "      <th></th>\n",
       "      <th>Row_ID</th>\n",
       "      <th>Household_ID</th>\n",
       "      <th>Vehicle</th>\n",
       "      <th>Calendar_Year</th>\n",
       "      <th>Model_Year</th>\n",
       "      <th>Blind_Make</th>\n",
       "      <th>Blind_Model</th>\n",
       "      <th>Blind_Submodel</th>\n",
       "      <th>Cat1</th>\n",
       "      <th>Cat2</th>\n",
       "      <th>...</th>\n",
       "      <th>Var5</th>\n",
       "      <th>Var6</th>\n",
       "      <th>Var7</th>\n",
       "      <th>Var8</th>\n",
       "      <th>NVCat</th>\n",
       "      <th>NVVar1</th>\n",
       "      <th>NVVar2</th>\n",
       "      <th>NVVar3</th>\n",
       "      <th>NVVar4</th>\n",
       "      <th>Claim_Amount</th>\n",
       "    </tr>\n",
       "  </thead>\n",
       "  <tbody>\n",
       "    <tr>\n",
       "      <th>0</th>\n",
       "      <td>1</td>\n",
       "      <td>1</td>\n",
       "      <td>3</td>\n",
       "      <td>2005</td>\n",
       "      <td>2005</td>\n",
       "      <td>K</td>\n",
       "      <td>K.78</td>\n",
       "      <td>K.78.2</td>\n",
       "      <td>D</td>\n",
       "      <td>C</td>\n",
       "      <td>...</td>\n",
       "      <td>1.008912</td>\n",
       "      <td>0.261040</td>\n",
       "      <td>0.907793</td>\n",
       "      <td>-0.077998</td>\n",
       "      <td>M</td>\n",
       "      <td>-0.23153</td>\n",
       "      <td>-0.266117</td>\n",
       "      <td>-0.272337</td>\n",
       "      <td>-0.251419</td>\n",
       "      <td>0.0</td>\n",
       "    </tr>\n",
       "    <tr>\n",
       "      <th>1</th>\n",
       "      <td>2</td>\n",
       "      <td>2</td>\n",
       "      <td>2</td>\n",
       "      <td>2005</td>\n",
       "      <td>2003</td>\n",
       "      <td>Q</td>\n",
       "      <td>Q.22</td>\n",
       "      <td>Q.22.3</td>\n",
       "      <td>B</td>\n",
       "      <td>C</td>\n",
       "      <td>...</td>\n",
       "      <td>1.240851</td>\n",
       "      <td>0.432987</td>\n",
       "      <td>-0.726459</td>\n",
       "      <td>0.204785</td>\n",
       "      <td>O</td>\n",
       "      <td>-0.23153</td>\n",
       "      <td>-0.266117</td>\n",
       "      <td>-0.272337</td>\n",
       "      <td>-0.251419</td>\n",
       "      <td>0.0</td>\n",
       "    </tr>\n",
       "    <tr>\n",
       "      <th>2</th>\n",
       "      <td>3</td>\n",
       "      <td>3</td>\n",
       "      <td>1</td>\n",
       "      <td>2005</td>\n",
       "      <td>1998</td>\n",
       "      <td>AR</td>\n",
       "      <td>AR.41</td>\n",
       "      <td>AR.41.1</td>\n",
       "      <td>B</td>\n",
       "      <td>?</td>\n",
       "      <td>...</td>\n",
       "      <td>-0.971487</td>\n",
       "      <td>-1.405797</td>\n",
       "      <td>-0.837048</td>\n",
       "      <td>-1.176858</td>\n",
       "      <td>F</td>\n",
       "      <td>-0.23153</td>\n",
       "      <td>-0.266117</td>\n",
       "      <td>-0.272337</td>\n",
       "      <td>-0.251419</td>\n",
       "      <td>0.0</td>\n",
       "    </tr>\n",
       "    <tr>\n",
       "      <th>3</th>\n",
       "      <td>4</td>\n",
       "      <td>3</td>\n",
       "      <td>1</td>\n",
       "      <td>2006</td>\n",
       "      <td>1998</td>\n",
       "      <td>AR</td>\n",
       "      <td>AR.41</td>\n",
       "      <td>AR.41.1</td>\n",
       "      <td>B</td>\n",
       "      <td>?</td>\n",
       "      <td>...</td>\n",
       "      <td>-0.971487</td>\n",
       "      <td>-1.405797</td>\n",
       "      <td>-0.837048</td>\n",
       "      <td>-1.176858</td>\n",
       "      <td>F</td>\n",
       "      <td>-0.23153</td>\n",
       "      <td>-0.266117</td>\n",
       "      <td>-0.272337</td>\n",
       "      <td>-0.251419</td>\n",
       "      <td>0.0</td>\n",
       "    </tr>\n",
       "    <tr>\n",
       "      <th>4</th>\n",
       "      <td>5</td>\n",
       "      <td>3</td>\n",
       "      <td>2</td>\n",
       "      <td>2005</td>\n",
       "      <td>2001</td>\n",
       "      <td>D</td>\n",
       "      <td>D.20</td>\n",
       "      <td>D.20.0</td>\n",
       "      <td>J</td>\n",
       "      <td>C</td>\n",
       "      <td>...</td>\n",
       "      <td>0.812656</td>\n",
       "      <td>2.112691</td>\n",
       "      <td>1.534462</td>\n",
       "      <td>2.347260</td>\n",
       "      <td>F</td>\n",
       "      <td>-0.23153</td>\n",
       "      <td>-0.266117</td>\n",
       "      <td>-0.272337</td>\n",
       "      <td>-0.251419</td>\n",
       "      <td>0.0</td>\n",
       "    </tr>\n",
       "  </tbody>\n",
       "</table>\n",
       "<p>5 rows × 35 columns</p>\n",
       "</div>"
      ],
      "text/plain": [
       "   Row_ID  Household_ID  Vehicle  Calendar_Year  Model_Year Blind_Make  \\\n",
       "0       1             1        3           2005        2005          K   \n",
       "1       2             2        2           2005        2003          Q   \n",
       "2       3             3        1           2005        1998         AR   \n",
       "3       4             3        1           2006        1998         AR   \n",
       "4       5             3        2           2005        2001          D   \n",
       "\n",
       "  Blind_Model Blind_Submodel Cat1 Cat2  ...      Var5      Var6      Var7  \\\n",
       "0        K.78         K.78.2    D    C  ...  1.008912  0.261040  0.907793   \n",
       "1        Q.22         Q.22.3    B    C  ...  1.240851  0.432987 -0.726459   \n",
       "2       AR.41        AR.41.1    B    ?  ... -0.971487 -1.405797 -0.837048   \n",
       "3       AR.41        AR.41.1    B    ?  ... -0.971487 -1.405797 -0.837048   \n",
       "4        D.20         D.20.0    J    C  ...  0.812656  2.112691  1.534462   \n",
       "\n",
       "       Var8 NVCat   NVVar1    NVVar2    NVVar3    NVVar4 Claim_Amount  \n",
       "0 -0.077998     M -0.23153 -0.266117 -0.272337 -0.251419          0.0  \n",
       "1  0.204785     O -0.23153 -0.266117 -0.272337 -0.251419          0.0  \n",
       "2 -1.176858     F -0.23153 -0.266117 -0.272337 -0.251419          0.0  \n",
       "3 -1.176858     F -0.23153 -0.266117 -0.272337 -0.251419          0.0  \n",
       "4  2.347260     F -0.23153 -0.266117 -0.272337 -0.251419          0.0  \n",
       "\n",
       "[5 rows x 35 columns]"
      ]
     },
     "execution_count": 4,
     "metadata": {},
     "output_type": "execute_result"
    }
   ],
   "source": [
    "insurance.head()"
   ]
  },
  {
   "cell_type": "code",
   "execution_count": 5,
   "id": "cc22ccac",
   "metadata": {},
   "outputs": [
    {
     "data": {
      "text/plain": [
       "(13184290, 35)"
      ]
     },
     "execution_count": 5,
     "metadata": {},
     "output_type": "execute_result"
    }
   ],
   "source": [
    "insurance.shape"
   ]
  },
  {
   "cell_type": "code",
   "execution_count": 6,
   "id": "62890a3c",
   "metadata": {},
   "outputs": [
    {
     "name": "stdout",
     "output_type": "stream",
     "text": [
      "<class 'pandas.core.frame.DataFrame'>\n",
      "RangeIndex: 13184290 entries, 0 to 13184289\n",
      "Data columns (total 35 columns):\n",
      " #   Column          Dtype  \n",
      "---  ------          -----  \n",
      " 0   Row_ID          int64  \n",
      " 1   Household_ID    int64  \n",
      " 2   Vehicle         int64  \n",
      " 3   Calendar_Year   int64  \n",
      " 4   Model_Year      int64  \n",
      " 5   Blind_Make      object \n",
      " 6   Blind_Model     object \n",
      " 7   Blind_Submodel  object \n",
      " 8   Cat1            object \n",
      " 9   Cat2            object \n",
      " 10  Cat3            object \n",
      " 11  Cat4            object \n",
      " 12  Cat5            object \n",
      " 13  Cat6            object \n",
      " 14  Cat7            object \n",
      " 15  Cat8            object \n",
      " 16  Cat9            object \n",
      " 17  Cat10           object \n",
      " 18  Cat11           object \n",
      " 19  Cat12           object \n",
      " 20  OrdCat          object \n",
      " 21  Var1            float64\n",
      " 22  Var2            float64\n",
      " 23  Var3            float64\n",
      " 24  Var4            float64\n",
      " 25  Var5            float64\n",
      " 26  Var6            float64\n",
      " 27  Var7            float64\n",
      " 28  Var8            float64\n",
      " 29  NVCat           object \n",
      " 30  NVVar1          float64\n",
      " 31  NVVar2          float64\n",
      " 32  NVVar3          float64\n",
      " 33  NVVar4          float64\n",
      " 34  Claim_Amount    float64\n",
      "dtypes: float64(13), int64(5), object(17)\n",
      "memory usage: 3.4+ GB\n"
     ]
    }
   ],
   "source": [
    "insurance.info()"
   ]
  },
  {
   "cell_type": "code",
   "execution_count": null,
   "id": "fe6e0cca",
   "metadata": {},
   "outputs": [],
   "source": [
    "insurance.isna().sum()"
   ]
  },
  {
   "cell_type": "code",
   "execution_count": null,
   "id": "bb2cbac4",
   "metadata": {},
   "outputs": [],
   "source": [
    "for i in insurance.columns:\n",
    "    print(insurance[i].value_counts())"
   ]
  },
  {
   "cell_type": "code",
   "execution_count": null,
   "id": "79981018",
   "metadata": {},
   "outputs": [],
   "source": [
    "for i in insurance.columns:\n",
    "    print(insurance[i].unique())"
   ]
  },
  {
   "cell_type": "code",
   "execution_count": null,
   "id": "189cfc5b",
   "metadata": {},
   "outputs": [],
   "source": [
    "insurance[\"Blind_Make\"].value_counts()"
   ]
  },
  {
   "cell_type": "code",
   "execution_count": null,
   "id": "25300845",
   "metadata": {},
   "outputs": [],
   "source": [
    "insurance[\"Blind_Model\"].value_counts()"
   ]
  },
  {
   "cell_type": "code",
   "execution_count": null,
   "id": "584103b0",
   "metadata": {},
   "outputs": [],
   "source": [
    "insurance[\"Blind_Submodel\"].value_counts()"
   ]
  },
  {
   "cell_type": "code",
   "execution_count": null,
   "id": "7b712077",
   "metadata": {},
   "outputs": [],
   "source": [
    "insurance[\"Claim_Amount\"].value_counts()"
   ]
  },
  {
   "cell_type": "markdown",
   "id": "b63cde0b",
   "metadata": {},
   "source": [
    "# Preparing the data"
   ]
  },
  {
   "cell_type": "code",
   "execution_count": 7,
   "id": "3dc55395",
   "metadata": {},
   "outputs": [],
   "source": [
    "#creating yeas of insurance:\n",
    "\n",
    "insurance[\"years_insurance\"] = 2007 - insurance[\"Calendar_Year\"]\n",
    "\n"
   ]
  },
  {
   "cell_type": "code",
   "execution_count": 8,
   "id": "9c1b6cf1",
   "metadata": {},
   "outputs": [],
   "source": [
    "#creating cars's age\n",
    "\n",
    "insurance[\"age_car\"] = 2007 - insurance[\"Model_Year\"]\n"
   ]
  },
  {
   "cell_type": "code",
   "execution_count": 9,
   "id": "d0000c2e",
   "metadata": {},
   "outputs": [],
   "source": [
    "insurance[\"Cat12\"] = insurance[\"Cat12\"].replace(np.nan,\"?\")"
   ]
  },
  {
   "cell_type": "code",
   "execution_count": 10,
   "id": "729c201d",
   "metadata": {},
   "outputs": [],
   "source": [
    "insurance['OrdCat_cat'] = insurance['OrdCat'].astype(\"string\")"
   ]
  },
  {
   "cell_type": "code",
   "execution_count": 11,
   "id": "6fc0e1a8",
   "metadata": {},
   "outputs": [],
   "source": [
    "insurance[\"claimed\"] = insurance[\"Claim_Amount\"].apply(lambda x : 1 if x>0 else 0)"
   ]
  },
  {
   "cell_type": "code",
   "execution_count": 12,
   "id": "296a1618",
   "metadata": {},
   "outputs": [],
   "source": [
    "insurance_claimed = insurance[insurance[\"claimed\"]==1]"
   ]
  },
  {
   "cell_type": "code",
   "execution_count": 13,
   "id": "69f0de1e",
   "metadata": {},
   "outputs": [],
   "source": [
    "insurance = insurance.sample(100000)"
   ]
  },
  {
   "cell_type": "code",
   "execution_count": 14,
   "id": "90db8f13",
   "metadata": {},
   "outputs": [],
   "source": [
    "cat_vars = ['Blind_Make', 'Blind_Model', 'Blind_Submodel', 'Cat1', 'Cat2', 'Cat3',\n",
    "       'Cat4', 'Cat5', 'Cat6', 'Cat7', 'Cat8', 'Cat9', 'Cat10', 'Cat11',\n",
    "       'Cat12','OrdCat_cat','NVCat']\n",
    "\n",
    "num_vars = ['Var1', 'Var2', 'Var3', 'Var4', 'Var5', 'Var6',\n",
    "       'Var7', 'Var8','NVVar1', 'NVVar2', 'NVVar3', 'NVVar4',\n",
    "          'years_insurance', 'age_car']\n",
    "\n",
    "y_var_claimed = 'claimed'\n",
    "y_var_value = \"Claim_Amount\""
   ]
  },
  {
   "cell_type": "markdown",
   "id": "0bd31695",
   "metadata": {},
   "source": [
    "# Creating probability of claim model\n"
   ]
  },
  {
   "cell_type": "code",
   "execution_count": 15,
   "id": "b44893cf",
   "metadata": {},
   "outputs": [],
   "source": [
    "X_prob = insurance[num_vars + cat_vars]\n",
    "y_prob = insurance[\"claimed\"]\n",
    "\n",
    "X_train_prob, X_test_prob, y_train_prob, y_test_prob = train_test_split(X_prob, y_prob, test_size=0.2)"
   ]
  },
  {
   "cell_type": "code",
   "execution_count": 16,
   "id": "1d6256ae",
   "metadata": {},
   "outputs": [],
   "source": [
    "# Pipeline Numérico\n",
    "sca = StandardScaler()\n",
    "lista_etapas = [(\"STD_SCALER\", sca)]\n",
    "num_pipeline = Pipeline(lista_etapas)\n",
    "\n",
    "# Pipeline Categórico\n",
    "ohe = OneHotEncoder(drop = 'first', handle_unknown=\"ignore\")\n",
    "umap_fit_5 = umap.UMAP(n_neighbors = 5, n_components=25, random_state=42)\n",
    "cat_pipeline = Pipeline([(\"ONE_HOT\", ohe), (\"UMAP\",umap_fit_5)])\n",
    "\n",
    "# Pipeline de Preprocessamento\n",
    "pipeline_preprocessamento = [\n",
    "    (\"NUMERICOS\", num_pipeline, num_vars),\n",
    "    (\"CATEGORICOS\", cat_pipeline, cat_vars),\n",
    "]\n",
    "data_prep_pipeline = ColumnTransformer(pipeline_preprocessamento)"
   ]
  },
  {
   "cell_type": "code",
   "execution_count": 31,
   "id": "9e9684d4",
   "metadata": {},
   "outputs": [
    {
     "data": {
      "text/plain": [
       "Pipeline(steps=[('PREP',\n",
       "                 ColumnTransformer(transformers=[('NUMERICOS',\n",
       "                                                  Pipeline(steps=[('STD_SCALER',\n",
       "                                                                   StandardScaler())]),\n",
       "                                                  ['Var1', 'Var2', 'Var3',\n",
       "                                                   'Var4', 'Var5', 'Var6',\n",
       "                                                   'Var7', 'Var8', 'NVVar1',\n",
       "                                                   'NVVar2', 'NVVar3', 'NVVar4',\n",
       "                                                   'years_insurance',\n",
       "                                                   'age_car']),\n",
       "                                                 ('CATEGORICOS',\n",
       "                                                  Pipeline(steps=[('ONE_HOT',\n",
       "                                                                   OneHotEncoder(drop='first',\n",
       "                                                                                 handle_unknown='ignore')),\n",
       "                                                                  ('UMAP',\n",
       "                                                                   UMAP(n_components=25, n_neighbors=5, random_state=42))]),\n",
       "                                                  ['Blind_Make', 'Blind_Model',\n",
       "                                                   'Blind_Submodel', 'Cat1',\n",
       "                                                   'Cat2', 'Cat3', 'Cat4',\n",
       "                                                   'Cat5', 'Cat6', 'Cat7',\n",
       "                                                   'Cat8', 'Cat9', 'Cat10',\n",
       "                                                   'Cat11', 'Cat12',\n",
       "                                                   'OrdCat_cat', 'NVCat'])])),\n",
       "                ('LM', LogisticRegression(class_weight='balanced'))])"
      ]
     },
     "execution_count": 31,
     "metadata": {},
     "output_type": "execute_result"
    }
   ],
   "source": [
    "lm = LogisticRegression(class_weight = 'balanced')\n",
    "lm_pipeline = Pipeline([(\"PREP\", data_prep_pipeline), (\"LM\", lm)])\n",
    "lm_pipeline.fit(X_train_prob, y_train_prob)"
   ]
  },
  {
   "cell_type": "markdown",
   "id": "b466b15e",
   "metadata": {},
   "source": [
    "# Creating  model of value of claim\n"
   ]
  },
  {
   "cell_type": "code",
   "execution_count": 23,
   "id": "dbcdbedc",
   "metadata": {},
   "outputs": [],
   "source": [
    "X_value_claimed = insurance_claimed[num_vars + cat_vars]\n",
    "y_value_claimed = insurance_claimed[\"Claim_Amount\"]\n",
    "\n",
    "X_train_value, X_test_value, y_train_value, y_test_value = train_test_split(X_value_claimed, y_value_claimed, test_size=0.2)"
   ]
  },
  {
   "cell_type": "code",
   "execution_count": 24,
   "id": "77d2a078",
   "metadata": {},
   "outputs": [],
   "source": [
    "# Pipeline Numérico\n",
    "sca = StandardScaler()\n",
    "lista_etapas = [(\"STD_SCALER\", sca)]\n",
    "num_pipeline = Pipeline(lista_etapas)\n",
    "\n",
    "# Pipeline Categórico\n",
    "ohe = OneHotEncoder(drop = 'first', sparse = False,handle_unknown=\"ignore\")\n",
    "lista_etapa_cat2 = [(\"ONE_HOT\", ohe)]\n",
    "cat_pipeline = Pipeline(lista_etapa_cat2)"
   ]
  },
  {
   "cell_type": "code",
   "execution_count": 117,
   "id": "7ed97623",
   "metadata": {},
   "outputs": [],
   "source": [
    "# Pipeline Numérico\n",
    "sca = StandardScaler()\n",
    "lista_etapas = [(\"STD_SCALER\", sca)]\n",
    "num_pipeline = Pipeline(lista_etapas)\n",
    "\n",
    "# Pipeline Categórico\n",
    "ohe = OneHotEncoder(drop = 'first', handle_unknown=\"ignore\")\n",
    "umap_fit_5 = umap.UMAP(n_neighbors = 5, n_components=25, random_state=42)\n",
    "cat_pipeline = Pipeline([(\"ONE_HOT\", ohe), (\"UMAP\",umap_fit_5)])\n",
    "\n",
    "# Pipeline de Preprocessamento\n",
    "pipeline_preprocessamento = [\n",
    "    (\"NUMERICOS\", num_pipeline, num_vars),\n",
    "    (\"CATEGORICOS\", cat_pipeline, cat_vars),\n",
    "]\n",
    "data_prep_pipeline2 = ColumnTransformer(pipeline_preprocessamento)"
   ]
  },
  {
   "cell_type": "code",
   "execution_count": 118,
   "id": "0b6845b6",
   "metadata": {},
   "outputs": [
    {
     "data": {
      "text/plain": [
       "Pipeline(steps=[('PREP',\n",
       "                 ColumnTransformer(transformers=[('NUMERICOS',\n",
       "                                                  Pipeline(steps=[('STD_SCALER',\n",
       "                                                                   StandardScaler())]),\n",
       "                                                  ['Var1', 'Var2', 'Var3',\n",
       "                                                   'Var4', 'Var5', 'Var6',\n",
       "                                                   'Var7', 'Var8', 'NVVar1',\n",
       "                                                   'NVVar2', 'NVVar3', 'NVVar4',\n",
       "                                                   'years_insurance',\n",
       "                                                   'age_car']),\n",
       "                                                 ('CATEGORICOS',\n",
       "                                                  Pipeline(steps=[('ONE_HOT',\n",
       "                                                                   OneHotEncoder(drop='first',\n",
       "                                                                                 handle_unknown='ignore')),\n",
       "                                                                  ('UMAP',\n",
       "                                                                   UMAP(n_components=25, n_neighbors=5, random_state=42))]),\n",
       "                                                  ['Blind_Make', 'Blind_Model',\n",
       "                                                   'Blind_Submodel', 'Cat1',\n",
       "                                                   'Cat2', 'Cat3', 'Cat4',\n",
       "                                                   'Cat5', 'Cat6', 'Cat7',\n",
       "                                                   'Cat8', 'Cat9', 'Cat10',\n",
       "                                                   'Cat11', 'Cat12',\n",
       "                                                   'OrdCat_cat', 'NVCat'])])),\n",
       "                ('LM', LinearRegression())])"
      ]
     },
     "execution_count": 118,
     "metadata": {},
     "output_type": "execute_result"
    }
   ],
   "source": [
    "lm = LinearRegression()\n",
    "lm_pipeline_value = Pipeline([(\"PREP\", data_prep_pipeline2), (\"LM\", lm)])\n",
    "lm_pipeline_value.fit(X_train_value, y_train_value)"
   ]
  },
  {
   "cell_type": "markdown",
   "id": "8f3a7447",
   "metadata": {},
   "source": [
    "# Creating the final model\n"
   ]
  },
  {
   "cell_type": "code",
   "execution_count": 112,
   "id": "1ff791a4",
   "metadata": {},
   "outputs": [],
   "source": [
    "y_pred_lm_proba = lm_pipeline.predict_proba(X_test_prob)"
   ]
  },
  {
   "cell_type": "code",
   "execution_count": 113,
   "id": "90a721b5",
   "metadata": {},
   "outputs": [],
   "source": [
    "y_pred_lm_value = lm_pipeline_value.predict(X_test_prob)"
   ]
  },
  {
   "cell_type": "code",
   "execution_count": 114,
   "id": "01ceee2b",
   "metadata": {},
   "outputs": [],
   "source": [
    "X_test_prob[\"claim_prob\"] = y_pred_lm_proba[:, 1]\n",
    "X_test_prob[\"claim_prob_50\"] = X_test_prob[\"claim_prob\"].apply(lambda x: 1 if x>0.50 else 0)\n",
    "X_test_prob[\"claim_prob_60\"] = X_test_prob[\"claim_prob\"].apply(lambda x: 1 if x>0.60 else 0)\n",
    "X_test_prob[\"claim_prob_70\"] = X_test_prob[\"claim_prob\"].apply(lambda x: 1 if x>0.70 else 0)\n",
    "X_test_prob[\"claim_prob_735\"] = X_test_prob[\"claim_prob\"].apply(lambda x: 1 if x>0.735 else 0)\n",
    "X_test_prob[\"claim_prob_80\"] = X_test_prob[\"claim_prob\"].apply(lambda x: 1 if x>0.80 else 0)\n",
    "X_test_prob[\"claim_prob_90\"] = X_test_prob[\"claim_prob\"].apply(lambda x: 1 if x>0.90 else 0)\n",
    "\n",
    "X_test_prob[\"claim_value\"] = y_pred_lm_value\n",
    "\n",
    "\n",
    "X_test_prob[\"claimed_paied_50\"] = X_test_prob[\"claim_prob_50\"]*X_test_prob[\"claim_value\"]\n",
    "X_test_prob[\"claimed_paied_60\"] = X_test_prob[\"claim_prob_60\"]*X_test_prob[\"claim_value\"]\n",
    "X_test_prob[\"claimed_paied_70\"] = X_test_prob[\"claim_prob_70\"]*X_test_prob[\"claim_value\"]\n",
    "X_test_prob[\"claimed_paied_735\"] = X_test_prob[\"claim_prob_735\"]*X_test_prob[\"claim_value\"]\n",
    "X_test_prob[\"claimed_paied_80\"] = X_test_prob[\"claim_prob_80\"]*X_test_prob[\"claim_value\"]\n",
    "X_test_prob[\"claimed_paied_90\"] = X_test_prob[\"claim_prob_90\"]*X_test_prob[\"claim_value\"]\n",
    "\n",
    "X_test_prob[\"y\"] = insurance.loc[X_test_prob.index,\"Claim_Amount\"]"
   ]
  },
  {
   "cell_type": "code",
   "execution_count": 115,
   "id": "6f4e967e",
   "metadata": {},
   "outputs": [
    {
     "name": "stdout",
     "output_type": "stream",
     "text": [
      "24940.502093590003\n",
      "\n",
      "1429224.193119984\n",
      "294231.38320420304\n",
      "30704.667366974652\n",
      "55542.25566248548\n",
      "11225.443553527253\n",
      "221.88613946201366\n"
     ]
    }
   ],
   "source": [
    "print(X_test_prob[\"y\"].sum())\n",
    "print(\"\")\n",
    "print(X_test_prob[\"claimed_paied_50\"].sum())\n",
    "print(X_test_prob[\"claimed_paied_60\"].sum())\n",
    "print(X_test_prob[\"claimed_paied_735\"].sum())\n",
    "print(X_test_prob[\"claimed_paied_70\"].sum())\n",
    "print(X_test_prob[\"claimed_paied_80\"].sum())\n",
    "print(X_test_prob[\"claimed_paied_90\"].sum())"
   ]
  },
  {
   "cell_type": "code",
   "execution_count": 119,
   "id": "d2e112cb",
   "metadata": {},
   "outputs": [
    {
     "name": "stdout",
     "output_type": "stream",
     "text": [
      "125.01\n",
      "56.5\n",
      "33.5\n",
      "30.44\n",
      "27.93\n",
      "26.4\n"
     ]
    }
   ],
   "source": [
    "print(round(np.sqrt(mean_squared_error(X_test_prob[\"claimed_paied_50\"],X_test_prob[\"y\"] )), 2))\n",
    "print(round(np.sqrt(mean_squared_error(X_test_prob[\"claimed_paied_60\"],X_test_prob[\"y\"] )), 2))\n",
    "print(round(np.sqrt(mean_squared_error(X_test_prob[\"claimed_paied_70\"],X_test_prob[\"y\"] )), 2))\n",
    "print(round(np.sqrt(mean_squared_error(X_test_prob[\"claimed_paied_735\"],X_test_prob[\"y\"] )), 2))\n",
    "print(round(np.sqrt(mean_squared_error(X_test_prob[\"claimed_paied_80\"],X_test_prob[\"y\"] )), 2))\n",
    "print(round(np.sqrt(mean_squared_error(X_test_prob[\"claimed_paied_90\"],X_test_prob[\"y\"] )), 2))"
   ]
  },
  {
   "cell_type": "code",
   "execution_count": 120,
   "id": "c37c968b",
   "metadata": {},
   "outputs": [
    {
     "name": "stdout",
     "output_type": "stream",
     "text": [
      "125.01\n",
      "56.5\n",
      "33.5\n",
      "30.44\n",
      "27.93\n",
      "26.4\n"
     ]
    }
   ],
   "source": [
    "print(round(np.sqrt(mean_squared_error(X_test_prob[\"claimed_paied_50\"],X_test_prob[\"y\"] )), 2))\n",
    "print(round(np.sqrt(mean_squared_error(X_test_prob[\"claimed_paied_60\"],X_test_prob[\"y\"] )), 2))\n",
    "print(round(np.sqrt(mean_squared_error(X_test_prob[\"claimed_paied_70\"],X_test_prob[\"y\"] )), 2))\n",
    "print(round(np.sqrt(mean_squared_error(X_test_prob[\"claimed_paied_735\"],X_test_prob[\"y\"] )), 2))\n",
    "print(round(np.sqrt(mean_squared_error(X_test_prob[\"claimed_paied_80\"],X_test_prob[\"y\"] )), 2))\n",
    "print(round(np.sqrt(mean_squared_error(X_test_prob[\"claimed_paied_90\"],X_test_prob[\"y\"] )), 2))\n"
   ]
  },
  {
   "cell_type": "code",
   "execution_count": null,
   "id": "464471e6",
   "metadata": {},
   "outputs": [],
   "source": []
  }
 ],
 "metadata": {
  "kernelspec": {
   "display_name": "tf",
   "language": "python",
   "name": "tf"
  },
  "language_info": {
   "codemirror_mode": {
    "name": "ipython",
    "version": 3
   },
   "file_extension": ".py",
   "mimetype": "text/x-python",
   "name": "python",
   "nbconvert_exporter": "python",
   "pygments_lexer": "ipython3",
   "version": "3.9.13"
  }
 },
 "nbformat": 4,
 "nbformat_minor": 5
}
